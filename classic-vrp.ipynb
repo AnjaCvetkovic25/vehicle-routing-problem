{
 "cells": [
  {
   "cell_type": "code",
   "execution_count": null,
   "metadata": {},
   "outputs": [],
   "source": [
    "import random"
   ]
  },
  {
   "cell_type": "code",
   "execution_count": null,
   "metadata": {},
   "outputs": [],
   "source": [
    "class Individual:\n",
    "    def __init__(self, data, capacity, ...):\n",
    "        self.solution = self.generate_solution()\n",
    "        self. fitness = self.calc_fitness()\n",
    "\n",
    "    def generate_solution(self):\n",
    "        #kako kodirati hromozom? - moze npr u jednom nizu gde ide prvo redni broj vozila na kojise doda broj customera pa onda redni brojevi customera koje obilazi na svojoj ruti pa onda naredno vozilo itd\n",
    "        #moraju da se provere svi uslovi, u zavisnosti da li radimo klasican vrp ili sa time windowom \n",
    "        code = []\n",
    "        while(not self.is_feasible(code)):\n",
    "            pass\n",
    "\n",
    "        return code\n",
    "\n",
    "    def calc_fitness():\n",
    "        #da li ce fitness biti predjeni put ili vreme, manje vise je sve jedno \n",
    "        #ali ako bismo koristili neke vremenske varijable, npr da uracunamo u cost i vreme istovara robe ili tako nesto, ili ako gledamo time windowe pa moramo racunati vreme\n",
    "        #a pritom imamo samo distance izmedju cvorova, to bi onda morali da prevedemo na vreme puta, npr predjeni put podelimo sa nekom prosecnom brzinom za koju se dogovorimo osim ako ne nadjemo neki dobar dataset \n",
    "        fitness = 0``\n",
    "        return fitness\n",
    "\n",
    "\n",
    "\n",
    "    def is_feasible(self, code):\n",
    "        # provera uslova ovo od ranije \n",
    "\n",
    "\n"
   ]
  },
  {
   "cell_type": "code",
   "execution_count": null,
   "metadata": {},
   "outputs": [],
   "source": [
    "def selection(population, tournament_size):\n",
    "    tournament = random.sample(population, tournament_size)\n",
    "    return max(tournament, key = lambda x: x.fitness)"
   ]
  },
  {
   "cell_type": "code",
   "execution_count": null,
   "metadata": {},
   "outputs": [],
   "source": [
    "def crossover(parent1, parent2, child1, child2):\n",
    "    #ovde mozemo da probamo sa vise crossovera, videla sam neki kao order crossover koji mi deluje bas ok ali ima ih jos ali ne znam kolko bi to uticalo na poboljsanje resenja \n",
    "    "
   ]
  },
  {
   "cell_type": "code",
   "execution_count": null,
   "metadata": {},
   "outputs": [],
   "source": [
    "def mutation(individual, mutation_prob):\n",
    "    # mutacija moze da bude jednostavna, samo se izberu dve rute i swapuje se po jedan customer iz svake "
   ]
  },
  {
   "cell_type": "code",
   "execution_count": null,
   "metadata": {},
   "outputs": [],
   "source": [
    "def genetic_algorithm(data, population_size, elitism_size, mutation_prob, tournament_size, num_generations, capacity, ...):\n",
    "    population = [Individual(data, capacity, ...) for _ in range(population_size)]\n",
    "    new_population = population.copy()\n",
    "\n",
    "    for i in range(num_generations):\n",
    "        population.sort(key = lambda x: x.fitness, reverse = True)\n",
    "        new_population[:elitism_size] = population[:elitism_size]\n",
    "        for j in range(elitism_size, population_size, 2):\n",
    "            parent1 = selection(population, tournament_size)\n",
    "            parent2 = selection(population, tournament_size)\n",
    "            while(parent1 == parent2):\n",
    "                parent2 = selection(population, tournament_size)\n",
    "            \n",
    "            crossover(parent1, parent2, child1= new_population[j], child2 = new_population[j+1])\n",
    "            \n",
    "            mutation(new_population[j], mutation_prob)\n",
    "            mutation(new_population[j+1], mutation_prob)\n",
    "\n",
    "            new_population[j].fitness = new_population[j].calc_fitness()\n",
    "            new_population[j+1].fitness = new_population[j+1].calc_fitness()\n",
    "\n",
    "        population = new_population.copy()\n",
    "    \n",
    "    return max(population, key = lambda x: x.fitness)"
   ]
  },
  {
   "cell_type": "code",
   "execution_count": null,
   "metadata": {},
   "outputs": [],
   "source": []
  }
 ],
 "metadata": {
  "language_info": {
   "name": "python"
  }
 },
 "nbformat": 4,
 "nbformat_minor": 2
}
