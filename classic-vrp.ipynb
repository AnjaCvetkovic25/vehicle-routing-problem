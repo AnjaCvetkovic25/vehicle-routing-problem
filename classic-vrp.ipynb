{
 "cells": [
  {
   "cell_type": "code",
   "execution_count": null,
   "metadata": {},
   "outputs": [],
   "source": [
    "import random"
   ]
  },
  {
   "cell_type": "code",
   "execution_count": null,
   "metadata": {},
   "outputs": [],
   "source": [
    "# ucitavanje podataka \n",
    "# alg za egzaktno resenje\n",
    "# klasa i mutacija\n",
    "class Individual:\n",
    "    def __init__(self, data, capacity, ...):\n",
    "        self.solution = self.generate_solution()\n",
    "        self. fitness = self.calc_fitness()\n",
    "\n",
    "    def generate_solution(self):\n",
    "        #kako kodirati hromozom? - moze npr u jednom nizu gde ide prvo redni broj vozila na kojise doda broj customera pa onda redni brojevi customera koje obilazi na svojoj ruti pa onda naredno vozilo itd\n",
    "        #moraju da se provere svi uslovi, u zavisnosti da li radimo klasican vrp ili sa time windowom \n",
    "        # random inicijalizacija \n",
    "        # \n",
    "        code = []\n",
    "        while(not self.is_feasible(code)):\n",
    "            pass\n",
    "\n",
    "        return code\n",
    "\n",
    "    def calc_fitness():\n",
    "        # The value of travel time is equal to the value of distance. !!!!\n",
    "        #da li ce fitness biti predjeni put ili vreme, manje vise je sve jedno \n",
    "        #ali ako bismo koristili neke vremenske varijable, npr da uracunamo u cost i vreme istovara robe ili tako nesto, ili ako gledamo time windowe pa moramo racunati vreme\n",
    "        #a pritom imamo samo distance izmedju cvorova, to bi onda morali da prevedemo na vreme puta, npr predjeni put podelimo sa nekom prosecnom brzinom za koju se dogovorimo osim ako ne nadjemo neki dobar dataset \n",
    "        fitness = 0\n",
    "        return 1/fitness\n",
    "\n",
    "        # distance ~ isto sto i vreme \n",
    "        # vreme na putu + vreme cekanja (ako ga ima) + service time \n",
    "        # vreme cekanja = 0 ili ready time - arrival time\n",
    "\n",
    "        # Di + distance(i,j) + wait time\n",
    "\n",
    "        # penalizujemo resenja koja ne ispunjavaju uslove za time window\n",
    "\n",
    "\n",
    "\n",
    "    def is_feasible(self, code):\n",
    "        # proverava da li se gradovi ponavljaju - to je unfeasible\n",
    "\n",
    "\n",
    "\n",
    "\n"
   ]
  },
  {
   "cell_type": "code",
   "execution_count": null,
   "metadata": {},
   "outputs": [],
   "source": [
    "def selection(population, tournament_size): # tournament size kao parametar\n",
    "    tournament = random.sample(population, tournament_size)\n",
    "    return max(tournament, key = lambda x: x.fitness)"
   ]
  },
  {
   "cell_type": "code",
   "execution_count": null,
   "metadata": {},
   "outputs": [],
   "source": [
    "def crossover(parent1, parent2, child1, child2):\n",
    "#    Order Crossover (OX): proposed by Davis[99]\n",
    "# A kind of variation of PMX with a different repairing procedure\n",
    "# Procedure: OX\n",
    "# 1. Select a substring from a parent at random.\n",
    "# 2. Produce a proto-child by copying the substring into the\n",
    "# corresponding position of it.\n",
    "# 3. Delete the cities which are already in the substring from the 2nd\n",
    "# parent. The resulted sequence of citires contains the cities that the\n",
    "# proto-child needs.\n",
    "# 4. Place the cities into the unfixed positions of the proto-child from left\n",
    "# to right according to the order of the sequence to produce an\n",
    "# offspring."
   ]
  },
  {
   "cell_type": "code",
   "execution_count": null,
   "metadata": {},
   "outputs": [],
   "source": [
    "def mutation(individual, mutation_prob):\n",
    "    # mutacija moze da bude jednostavna, samo se izberu dve rute i swapuje se po jedan customer iz svake "
   ]
  },
  {
   "cell_type": "code",
   "execution_count": null,
   "metadata": {},
   "outputs": [],
   "source": [
    "def genetic_algorithm(data, population_size, elitism_size, mutation_prob, tournament_size, num_generations, capacity, ...):\n",
    "    population = [Individual(data, capacity, ...) for _ in range(population_size)]\n",
    "    new_population = population.copy()\n",
    "\n",
    "    for i in range(num_generations):\n",
    "        population.sort(key = lambda x: x.fitness, reverse = True)\n",
    "        new_population[:elitism_size] = population[:elitism_size]\n",
    "        for j in range(elitism_size, population_size, 2):\n",
    "            parent1 = selection(population, tournament_size)\n",
    "            parent2 = selection(population, tournament_size)\n",
    "            while(parent1 == parent2):\n",
    "                parent2 = selection(population, tournament_size)\n",
    "            \n",
    "            crossover(parent1, parent2, child1= new_population[j], child2 = new_population[j+1])\n",
    "            \n",
    "            mutation(new_population[j], mutation_prob)\n",
    "            mutation(new_population[j+1], mutation_prob)\n",
    "\n",
    "            new_population[j].fitness = new_population[j].calc_fitness()\n",
    "            new_population[j+1].fitness = new_population[j+1].calc_fitness()\n",
    "\n",
    "        population = new_population.copy()\n",
    "    \n",
    "    return max(population, key = lambda x: x.fitness)"
   ]
  },
  {
   "cell_type": "code",
   "execution_count": null,
   "metadata": {},
   "outputs": [],
   "source": []
  }
 ],
 "metadata": {
  "language_info": {
   "name": "python"
  }
 },
 "nbformat": 4,
 "nbformat_minor": 2
}
