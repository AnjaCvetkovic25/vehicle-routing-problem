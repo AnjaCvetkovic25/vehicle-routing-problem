{
 "cells": [
  {
   "cell_type": "code",
   "execution_count": 51,
   "metadata": {},
   "outputs": [],
   "source": [
    "import random\n",
    "from copy import deepcopy"
   ]
  },
  {
   "cell_type": "code",
   "execution_count": 3,
   "metadata": {},
   "outputs": [],
   "source": [
    "service_time = 10 # trebalo bi promeniti kroz argument/parametar pri prevodjenju programa\n",
    "\n",
    "def load(file):\n",
    "    cities = []\n",
    "    with open(file, 'r') as f:\n",
    "        for line in f:\n",
    "            data = line.split()\n",
    "            city_num = int(data[0])\n",
    "            x = float(data[1])\n",
    "            y = float(data[2])\n",
    "            demand = float(data[3])\n",
    "            ready_time = float(data[4])\n",
    "            due_time = float(data[5])\n",
    "            \n",
    "            city = {'city_num' : city_num, 'x' : x, 'y' : y, 'demand' : demand, 'ready_time' : ready_time, 'due_time' : due_time}\n",
    "            cities.append(city)\n",
    "            \n",
    "    return cities   "
   ]
  },
  {
   "cell_type": "code",
   "execution_count": 4,
   "metadata": {},
   "outputs": [
    {
     "name": "stdout",
     "output_type": "stream",
     "text": [
      "{'city_num': 1, 'x': 35.0, 'y': 35.0, 'demand': 0.0, 'ready_time': 0.0, 'due_time': 230.0}\n",
      "{'city_num': 2, 'x': 41.0, 'y': 49.0, 'demand': 10.0, 'ready_time': 161.0, 'due_time': 171.0}\n",
      "{'city_num': 3, 'x': 35.0, 'y': 17.0, 'demand': 7.0, 'ready_time': 50.0, 'due_time': 60.0}\n",
      "{'city_num': 4, 'x': 55.0, 'y': 45.0, 'demand': 13.0, 'ready_time': 116.0, 'due_time': 126.0}\n",
      "{'city_num': 5, 'x': 55.0, 'y': 20.0, 'demand': 19.0, 'ready_time': 149.0, 'due_time': 159.0}\n",
      "{'city_num': 6, 'x': 15.0, 'y': 30.0, 'demand': 26.0, 'ready_time': 34.0, 'due_time': 44.0}\n",
      "{'city_num': 7, 'x': 25.0, 'y': 30.0, 'demand': 3.0, 'ready_time': 99.0, 'due_time': 109.0}\n",
      "{'city_num': 8, 'x': 20.0, 'y': 50.0, 'demand': 5.0, 'ready_time': 81.0, 'due_time': 91.0}\n",
      "{'city_num': 9, 'x': 10.0, 'y': 43.0, 'demand': 9.0, 'ready_time': 95.0, 'due_time': 105.0}\n",
      "{'city_num': 10, 'x': 55.0, 'y': 60.0, 'demand': 16.0, 'ready_time': 97.0, 'due_time': 107.0}\n",
      "{'city_num': 11, 'x': 30.0, 'y': 60.0, 'demand': 16.0, 'ready_time': 124.0, 'due_time': 134.0}\n",
      "{'city_num': 12, 'x': 20.0, 'y': 65.0, 'demand': 12.0, 'ready_time': 67.0, 'due_time': 77.0}\n",
      "{'city_num': 13, 'x': 50.0, 'y': 35.0, 'demand': 19.0, 'ready_time': 63.0, 'due_time': 73.0}\n",
      "{'city_num': 14, 'x': 30.0, 'y': 25.0, 'demand': 23.0, 'ready_time': 159.0, 'due_time': 169.0}\n",
      "{'city_num': 15, 'x': 15.0, 'y': 10.0, 'demand': 20.0, 'ready_time': 32.0, 'due_time': 42.0}\n",
      "{'city_num': 16, 'x': 30.0, 'y': 5.0, 'demand': 8.0, 'ready_time': 61.0, 'due_time': 71.0}\n",
      "{'city_num': 17, 'x': 10.0, 'y': 20.0, 'demand': 19.0, 'ready_time': 75.0, 'due_time': 85.0}\n",
      "{'city_num': 18, 'x': 5.0, 'y': 30.0, 'demand': 2.0, 'ready_time': 157.0, 'due_time': 167.0}\n",
      "{'city_num': 19, 'x': 20.0, 'y': 40.0, 'demand': 12.0, 'ready_time': 87.0, 'due_time': 97.0}\n",
      "{'city_num': 20, 'x': 15.0, 'y': 60.0, 'demand': 17.0, 'ready_time': 76.0, 'due_time': 86.0}\n",
      "{'city_num': 21, 'x': 45.0, 'y': 65.0, 'demand': 9.0, 'ready_time': 126.0, 'due_time': 136.0}\n",
      "{'city_num': 22, 'x': 45.0, 'y': 20.0, 'demand': 11.0, 'ready_time': 62.0, 'due_time': 72.0}\n",
      "{'city_num': 23, 'x': 45.0, 'y': 10.0, 'demand': 18.0, 'ready_time': 97.0, 'due_time': 107.0}\n",
      "{'city_num': 24, 'x': 55.0, 'y': 5.0, 'demand': 29.0, 'ready_time': 68.0, 'due_time': 78.0}\n",
      "{'city_num': 25, 'x': 65.0, 'y': 35.0, 'demand': 3.0, 'ready_time': 153.0, 'due_time': 163.0}\n",
      "{'city_num': 26, 'x': 65.0, 'y': 20.0, 'demand': 6.0, 'ready_time': 172.0, 'due_time': 182.0}\n",
      "{'city_num': 27, 'x': 45.0, 'y': 30.0, 'demand': 17.0, 'ready_time': 132.0, 'due_time': 142.0}\n",
      "{'city_num': 28, 'x': 35.0, 'y': 40.0, 'demand': 16.0, 'ready_time': 37.0, 'due_time': 47.0}\n",
      "{'city_num': 29, 'x': 41.0, 'y': 37.0, 'demand': 16.0, 'ready_time': 39.0, 'due_time': 49.0}\n",
      "{'city_num': 30, 'x': 64.0, 'y': 42.0, 'demand': 9.0, 'ready_time': 63.0, 'due_time': 73.0}\n",
      "{'city_num': 31, 'x': 40.0, 'y': 60.0, 'demand': 21.0, 'ready_time': 71.0, 'due_time': 81.0}\n",
      "{'city_num': 32, 'x': 31.0, 'y': 52.0, 'demand': 27.0, 'ready_time': 50.0, 'due_time': 60.0}\n",
      "{'city_num': 33, 'x': 35.0, 'y': 69.0, 'demand': 23.0, 'ready_time': 141.0, 'due_time': 151.0}\n",
      "{'city_num': 34, 'x': 53.0, 'y': 52.0, 'demand': 11.0, 'ready_time': 37.0, 'due_time': 47.0}\n",
      "{'city_num': 35, 'x': 65.0, 'y': 55.0, 'demand': 14.0, 'ready_time': 117.0, 'due_time': 127.0}\n",
      "{'city_num': 36, 'x': 63.0, 'y': 65.0, 'demand': 8.0, 'ready_time': 143.0, 'due_time': 153.0}\n",
      "{'city_num': 37, 'x': 2.0, 'y': 60.0, 'demand': 5.0, 'ready_time': 41.0, 'due_time': 51.0}\n",
      "{'city_num': 38, 'x': 20.0, 'y': 20.0, 'demand': 8.0, 'ready_time': 134.0, 'due_time': 144.0}\n",
      "{'city_num': 39, 'x': 5.0, 'y': 5.0, 'demand': 16.0, 'ready_time': 83.0, 'due_time': 93.0}\n",
      "{'city_num': 40, 'x': 60.0, 'y': 12.0, 'demand': 31.0, 'ready_time': 44.0, 'due_time': 54.0}\n",
      "{'city_num': 41, 'x': 40.0, 'y': 25.0, 'demand': 9.0, 'ready_time': 85.0, 'due_time': 95.0}\n",
      "{'city_num': 42, 'x': 42.0, 'y': 7.0, 'demand': 5.0, 'ready_time': 97.0, 'due_time': 107.0}\n",
      "{'city_num': 43, 'x': 24.0, 'y': 12.0, 'demand': 5.0, 'ready_time': 31.0, 'due_time': 41.0}\n",
      "{'city_num': 44, 'x': 23.0, 'y': 3.0, 'demand': 7.0, 'ready_time': 132.0, 'due_time': 142.0}\n",
      "{'city_num': 45, 'x': 11.0, 'y': 14.0, 'demand': 18.0, 'ready_time': 69.0, 'due_time': 79.0}\n",
      "{'city_num': 46, 'x': 6.0, 'y': 38.0, 'demand': 16.0, 'ready_time': 32.0, 'due_time': 42.0}\n",
      "{'city_num': 47, 'x': 2.0, 'y': 48.0, 'demand': 1.0, 'ready_time': 117.0, 'due_time': 127.0}\n",
      "{'city_num': 48, 'x': 8.0, 'y': 56.0, 'demand': 27.0, 'ready_time': 51.0, 'due_time': 61.0}\n",
      "{'city_num': 49, 'x': 13.0, 'y': 52.0, 'demand': 36.0, 'ready_time': 165.0, 'due_time': 175.0}\n",
      "{'city_num': 50, 'x': 6.0, 'y': 68.0, 'demand': 30.0, 'ready_time': 108.0, 'due_time': 118.0}\n",
      "{'city_num': 51, 'x': 47.0, 'y': 47.0, 'demand': 13.0, 'ready_time': 124.0, 'due_time': 134.0}\n",
      "{'city_num': 52, 'x': 49.0, 'y': 58.0, 'demand': 10.0, 'ready_time': 88.0, 'due_time': 98.0}\n",
      "{'city_num': 53, 'x': 27.0, 'y': 43.0, 'demand': 9.0, 'ready_time': 52.0, 'due_time': 62.0}\n",
      "{'city_num': 54, 'x': 37.0, 'y': 31.0, 'demand': 14.0, 'ready_time': 95.0, 'due_time': 105.0}\n",
      "{'city_num': 55, 'x': 57.0, 'y': 29.0, 'demand': 18.0, 'ready_time': 140.0, 'due_time': 150.0}\n",
      "{'city_num': 56, 'x': 63.0, 'y': 23.0, 'demand': 2.0, 'ready_time': 136.0, 'due_time': 146.0}\n",
      "{'city_num': 57, 'x': 53.0, 'y': 12.0, 'demand': 6.0, 'ready_time': 130.0, 'due_time': 140.0}\n",
      "{'city_num': 58, 'x': 32.0, 'y': 12.0, 'demand': 7.0, 'ready_time': 101.0, 'due_time': 111.0}\n",
      "{'city_num': 59, 'x': 36.0, 'y': 26.0, 'demand': 18.0, 'ready_time': 200.0, 'due_time': 210.0}\n",
      "{'city_num': 60, 'x': 21.0, 'y': 24.0, 'demand': 28.0, 'ready_time': 18.0, 'due_time': 28.0}\n",
      "{'city_num': 61, 'x': 17.0, 'y': 34.0, 'demand': 3.0, 'ready_time': 162.0, 'due_time': 172.0}\n",
      "{'city_num': 62, 'x': 12.0, 'y': 24.0, 'demand': 13.0, 'ready_time': 76.0, 'due_time': 86.0}\n",
      "{'city_num': 63, 'x': 24.0, 'y': 58.0, 'demand': 19.0, 'ready_time': 58.0, 'due_time': 68.0}\n",
      "{'city_num': 64, 'x': 27.0, 'y': 69.0, 'demand': 10.0, 'ready_time': 34.0, 'due_time': 44.0}\n",
      "{'city_num': 65, 'x': 15.0, 'y': 77.0, 'demand': 9.0, 'ready_time': 73.0, 'due_time': 83.0}\n",
      "{'city_num': 66, 'x': 62.0, 'y': 77.0, 'demand': 20.0, 'ready_time': 51.0, 'due_time': 61.0}\n",
      "{'city_num': 67, 'x': 49.0, 'y': 73.0, 'demand': 25.0, 'ready_time': 127.0, 'due_time': 137.0}\n",
      "{'city_num': 68, 'x': 67.0, 'y': 5.0, 'demand': 25.0, 'ready_time': 83.0, 'due_time': 93.0}\n",
      "{'city_num': 69, 'x': 56.0, 'y': 39.0, 'demand': 36.0, 'ready_time': 142.0, 'due_time': 152.0}\n",
      "{'city_num': 70, 'x': 37.0, 'y': 47.0, 'demand': 6.0, 'ready_time': 50.0, 'due_time': 60.0}\n",
      "{'city_num': 71, 'x': 37.0, 'y': 56.0, 'demand': 5.0, 'ready_time': 182.0, 'due_time': 192.0}\n",
      "{'city_num': 72, 'x': 57.0, 'y': 68.0, 'demand': 15.0, 'ready_time': 77.0, 'due_time': 87.0}\n",
      "{'city_num': 73, 'x': 47.0, 'y': 16.0, 'demand': 25.0, 'ready_time': 35.0, 'due_time': 45.0}\n",
      "{'city_num': 74, 'x': 44.0, 'y': 17.0, 'demand': 9.0, 'ready_time': 78.0, 'due_time': 88.0}\n",
      "{'city_num': 75, 'x': 46.0, 'y': 13.0, 'demand': 8.0, 'ready_time': 149.0, 'due_time': 159.0}\n",
      "{'city_num': 76, 'x': 49.0, 'y': 11.0, 'demand': 18.0, 'ready_time': 69.0, 'due_time': 79.0}\n",
      "{'city_num': 77, 'x': 49.0, 'y': 42.0, 'demand': 13.0, 'ready_time': 73.0, 'due_time': 83.0}\n",
      "{'city_num': 78, 'x': 53.0, 'y': 43.0, 'demand': 14.0, 'ready_time': 179.0, 'due_time': 189.0}\n",
      "{'city_num': 79, 'x': 61.0, 'y': 52.0, 'demand': 3.0, 'ready_time': 96.0, 'due_time': 106.0}\n",
      "{'city_num': 80, 'x': 57.0, 'y': 48.0, 'demand': 23.0, 'ready_time': 92.0, 'due_time': 102.0}\n",
      "{'city_num': 81, 'x': 56.0, 'y': 37.0, 'demand': 6.0, 'ready_time': 182.0, 'due_time': 192.0}\n",
      "{'city_num': 82, 'x': 55.0, 'y': 54.0, 'demand': 26.0, 'ready_time': 94.0, 'due_time': 104.0}\n",
      "{'city_num': 83, 'x': 15.0, 'y': 47.0, 'demand': 16.0, 'ready_time': 55.0, 'due_time': 65.0}\n",
      "{'city_num': 84, 'x': 14.0, 'y': 37.0, 'demand': 11.0, 'ready_time': 44.0, 'due_time': 54.0}\n",
      "{'city_num': 85, 'x': 11.0, 'y': 31.0, 'demand': 7.0, 'ready_time': 101.0, 'due_time': 111.0}\n",
      "{'city_num': 86, 'x': 16.0, 'y': 22.0, 'demand': 41.0, 'ready_time': 91.0, 'due_time': 101.0}\n",
      "{'city_num': 87, 'x': 4.0, 'y': 18.0, 'demand': 35.0, 'ready_time': 94.0, 'due_time': 104.0}\n",
      "{'city_num': 88, 'x': 28.0, 'y': 18.0, 'demand': 26.0, 'ready_time': 93.0, 'due_time': 103.0}\n",
      "{'city_num': 89, 'x': 26.0, 'y': 52.0, 'demand': 9.0, 'ready_time': 74.0, 'due_time': 84.0}\n",
      "{'city_num': 90, 'x': 26.0, 'y': 35.0, 'demand': 15.0, 'ready_time': 176.0, 'due_time': 186.0}\n",
      "{'city_num': 91, 'x': 31.0, 'y': 67.0, 'demand': 3.0, 'ready_time': 95.0, 'due_time': 105.0}\n",
      "{'city_num': 92, 'x': 15.0, 'y': 19.0, 'demand': 1.0, 'ready_time': 160.0, 'due_time': 170.0}\n",
      "{'city_num': 93, 'x': 22.0, 'y': 22.0, 'demand': 2.0, 'ready_time': 18.0, 'due_time': 28.0}\n",
      "{'city_num': 94, 'x': 18.0, 'y': 24.0, 'demand': 22.0, 'ready_time': 188.0, 'due_time': 198.0}\n",
      "{'city_num': 95, 'x': 26.0, 'y': 27.0, 'demand': 27.0, 'ready_time': 100.0, 'due_time': 110.0}\n",
      "{'city_num': 96, 'x': 25.0, 'y': 24.0, 'demand': 20.0, 'ready_time': 39.0, 'due_time': 49.0}\n",
      "{'city_num': 97, 'x': 22.0, 'y': 27.0, 'demand': 11.0, 'ready_time': 135.0, 'due_time': 145.0}\n",
      "{'city_num': 98, 'x': 25.0, 'y': 21.0, 'demand': 12.0, 'ready_time': 133.0, 'due_time': 143.0}\n",
      "{'city_num': 99, 'x': 19.0, 'y': 21.0, 'demand': 10.0, 'ready_time': 58.0, 'due_time': 68.0}\n",
      "{'city_num': 100, 'x': 20.0, 'y': 26.0, 'demand': 9.0, 'ready_time': 83.0, 'due_time': 93.0}\n",
      "{'city_num': 101, 'x': 18.0, 'y': 18.0, 'demand': 17.0, 'ready_time': 185.0, 'due_time': 195.0}\n"
     ]
    }
   ],
   "source": [
    "cities = load('input.txt')\n",
    "for city in cities:\n",
    "    print(city)"
   ]
  },
  {
   "cell_type": "code",
   "execution_count": 5,
   "metadata": {},
   "outputs": [
    {
     "ename": "SyntaxError",
     "evalue": "invalid syntax (3579936043.py, line 2)",
     "output_type": "error",
     "traceback": [
      "\u001b[1;36m  Cell \u001b[1;32mIn[5], line 2\u001b[1;36m\u001b[0m\n\u001b[1;33m    def __init__(self, data, capacity, ...):\u001b[0m\n\u001b[1;37m                                       ^\u001b[0m\n\u001b[1;31mSyntaxError\u001b[0m\u001b[1;31m:\u001b[0m invalid syntax\n"
     ]
    }
   ],
   "source": [
    "class Individual:\n",
    "    def __init__(self, data, capacity, ...):\n",
    "        self.solution = self.generate_solution()\n",
    "        self. fitness = self.calc_fitness()\n",
    "\n",
    "    def generate_solution(self):\n",
    "        #kako kodirati hromozom? - moze npr u jednom nizu gde ide prvo redni broj vozila na kojise doda broj customera pa onda redni brojevi customera koje obilazi na svojoj ruti pa onda naredno vozilo itd\n",
    "        #moraju da se provere svi uslovi, u zavisnosti da li radimo klasican vrp ili sa time windowom \n",
    "        # random inicijalizacija \n",
    "        # \n",
    "        code = []\n",
    "        while(not self.is_feasible(code)):\n",
    "            pass\n",
    "\n",
    "        return code\n",
    "\n",
    "    def calc_fitness():\n",
    "        # The value of travel time is equal to the value of distance. !!!!\n",
    "        #da li ce fitness biti predjeni put ili vreme, manje vise je sve jedno \n",
    "        #ali ako bismo koristili neke vremenske varijable, npr da uracunamo u cost i vreme istovara robe ili tako nesto, ili ako gledamo time windowe pa moramo racunati vreme\n",
    "        #a pritom imamo samo distance izmedju cvorova, to bi onda morali da prevedemo na vreme puta, npr predjeni put podelimo sa nekom prosecnom brzinom za koju se dogovorimo osim ako ne nadjemo neki dobar dataset \n",
    "        fitness = 0\n",
    "        return 1/fitness\n",
    "\n",
    "        # distance ~ isto sto i vreme \n",
    "        # vreme na putu + vreme cekanja (ako ga ima) + service time \n",
    "        # vreme cekanja = 0 ili ready time - arrival time\n",
    "\n",
    "        # Di + distance(i,j) + wait time\n",
    "\n",
    "        # penalizujemo resenja koja ne ispunjavaju uslove za time window\n",
    "\n",
    "\n",
    "\n",
    "    def is_feasible(self, code):\n",
    "        # proverava da li se gradovi ponavljaju - to je unfeasible\n"
   ]
  },
  {
   "cell_type": "code",
   "execution_count": 8,
   "metadata": {},
   "outputs": [],
   "source": [
    "def random_selection(population):\n",
    "    return random.choice(population)"
   ]
  },
  {
   "cell_type": "code",
   "execution_count": 9,
   "metadata": {},
   "outputs": [],
   "source": [
    "def tournament_selection(population, tournament_size):\n",
    "    tournament = random.sample(population, tournament_size)\n",
    "    return max(tournament, key = lambda x: x.fitness)"
   ]
  },
  {
   "cell_type": "code",
   "execution_count": 10,
   "metadata": {},
   "outputs": [],
   "source": [
    "def roulette_selection(population):\n",
    "    total_fitness = sum([individual.fitness for individual in population])\n",
    "    selection_probs = [individual.fitness / total_fitness for individual in population]\n",
    "    return random.choices(population, weights=selection_probs)[0]"
   ]
  },
  {
   "cell_type": "code",
   "execution_count": 11,
   "metadata": {},
   "outputs": [],
   "source": [
    "def rang_selection(population):\n",
    "    n = len(population)\n",
    "    rank_sum = n * (n+1) / 2\n",
    "    selection_probs = []\n",
    "    for rank, _ in enumerate(sorted(population, key=lambda x: x.fitness), 1):\n",
    "        selection_probs.append(rank / rank_sum)\n",
    "        \n",
    "    return random.choices(population, weights=selection_probs)[0]"
   ]
  },
  {
   "cell_type": "code",
   "execution_count": 16,
   "metadata": {},
   "outputs": [
    {
     "name": "stdout",
     "output_type": "stream",
     "text": [
      "B\n",
      "E\n",
      "D\n",
      "D\n"
     ]
    }
   ],
   "source": [
    "class Example_Individual:\n",
    "    def __init__(self, fitness, name):\n",
    "        self.fitness = fitness\n",
    "        self.name = name\n",
    "\n",
    "example_population = [Example_Individual(fitness=0.8, name='A'), \n",
    "                      Example_Individual(fitness=0.6, name='B'), \n",
    "                      Example_Individual(fitness=0.7, name='C'),\n",
    "                      Example_Individual(fitness=0.8, name='D'), \n",
    "                      Example_Individual(fitness=0.9, name='E')]\n",
    "\n",
    "print(random_selection(example_population).name)\n",
    "print(tournament_selection(example_population, 3).name)\n",
    "print(roulette_selection(example_population).name)\n",
    "print(rang_selection(example_population).name)"
   ]
  },
  {
   "cell_type": "code",
   "execution_count": 17,
   "metadata": {},
   "outputs": [],
   "source": [
    "# Order Crossover (OX): proposed by Davis[99]\n",
    "# A kind of variation of PMX with a different repairing procedure\n",
    "# Procedure: OX\n",
    "\n",
    "def order_crossover(parent1, parent2, child):\n",
    "# 1. Select a substring from a parent at random.\n",
    "    lb, ub = sorted(random.sample(range(len(parent1)), 2))\n",
    "    print('lb = ', lb, 'ub = ', ub)\n",
    "    \n",
    "# 2. Produce a proto-child by copying the substring into the\n",
    "# corresponding position of it.\n",
    "    child[lb:ub + 1] = parent1[lb:ub + 1]\n",
    "        \n",
    "# 3. Place the cities into the unfixed positions of the proto-child from left\n",
    "# to right according to the order of the sequence to produce an offspring.\n",
    "    j = 0\n",
    "    for i in range(len(child)):\n",
    "        if j == lb:\n",
    "            j = ub + 1\n",
    "            \n",
    "        if j == len(child):\n",
    "            break\n",
    "        \n",
    "        if parent2[i] not in child:\n",
    "            child[j] = parent2[i]\n",
    "            j = j + 1 "
   ]
  },
  {
   "cell_type": "code",
   "execution_count": 126,
   "metadata": {},
   "outputs": [],
   "source": [
    "def partially_mapped_crossover(parent1, parent2, child1, child2):\n",
    "    cutoff_1, cutoff_2 = sorted(random.sample(range(len(parent1)), 2))\n",
    "    \n",
    "    child1 = deepcopy(parent1)\n",
    "    child2 = deepcopy(parent2)\n",
    "    \n",
    "    child1[cutoff_1:cutoff_2] = parent2[cutoff_1:cutoff_2]\n",
    "    child2[cutoff_1:cutoff_2] = parent1[cutoff_1:cutoff_2]\n",
    "\n",
    "    middle_map = {}\n",
    "    for a, b in zip (child1[cutoff_1:cutoff_2], child2[cutoff_1:cutoff_2]):\n",
    "        middle_map[a] = middle_map.get(a, 0) + 1\n",
    "        middle_map[b] = middle_map.get(b, 0) + 1\n",
    "        \n",
    "    mapping_order = []\n",
    "    for key, value in middle_map.items():\n",
    "        if value != 2:\n",
    "            mapping_order.append(key)\n",
    "            \n",
    "    def find_all_occurrences(lst, item):\n",
    "        return [i for i, x in enumerate(lst) if x == item]    \n",
    "          \n",
    "    def replace_a_b(x_pos, y, child, cutoff_1, cutoff_2):\n",
    "        for i in x_pos:\n",
    "            if i not in range(cutoff_1, cutoff_2):\n",
    "                child[i] = y\n",
    "                return child\n",
    "        \n",
    "    def replace_a_b_child(a, a_pos, b, b_pos, child, cutoff_1, cutoff_2):\n",
    "        if len(a_pos) != 0:\n",
    "             return replace_a_b(a_pos, b, child, cutoff_1, cutoff_2)\n",
    "        else:\n",
    "            return replace_a_b(b_pos, a, child, cutoff_1, cutoff_2)\n",
    "        \n",
    "    for i in range(0, len(mapping_order), 2):\n",
    "        a = mapping_order[i]\n",
    "        b = mapping_order[i+1]\n",
    "        \n",
    "        a_child1_positions = find_all_occurrences(child1, a)\n",
    "        a_child2_positions = find_all_occurrences(child2, a)\n",
    "        \n",
    "        b_child1_positions = find_all_occurrences(child1, b)\n",
    "        b_child2_positions = find_all_occurrences(child2, b)\n",
    "        \n",
    "        child1 = replace_a_b_child(a, a_child1_positions, b, b_child1_positions, child1, cutoff_1, cutoff_2)\n",
    "        child2 = replace_a_b_child(a, a_child2_positions, b, b_child2_positions, child2, cutoff_1, cutoff_2)\n",
    "\n",
    "    return child1, child2"
   ]
  },
  {
   "cell_type": "markdown",
   "metadata": {},
   "source": [
    "[1 | 2 3 4 | 5]\n",
    "[5 | 4 3 1 | 2]\n",
    "\n",
    "[1 | 4 3 1 | 5]\n",
    "[5 | 2 3 4 | 2]\n",
    "\n",
    "4-2, 3-3, 1-4\n",
    "1: 1\n",
    "2: 1\n",
    "3: 2\n",
    "4: 2\n",
    "1 -> 5\n",
    "\n",
    "[2 | 1 3 4 | 5]\n",
    "[5 | 2 3 4 | 1]"
   ]
  },
  {
   "cell_type": "code",
   "execution_count": 128,
   "metadata": {},
   "outputs": [],
   "source": [
    "def crossover(parent1, parent2, child1, child2):\n",
    "    #order_crossover(parent1, parent2, child1)\n",
    "    #order_crossover(parent2, parent1, child2)\n",
    "    child1, child2 = partially_mapped_crossover(parent1, parent2, child1, child2)\n",
    "    print('child1:', child1, '\\nchild2:', child2)"
   ]
  },
  {
   "cell_type": "code",
   "execution_count": 177,
   "metadata": {},
   "outputs": [
    {
     "name": "stdout",
     "output_type": "stream",
     "text": [
      "child1: [5, 4, 3, 1, 2] \n",
      "child2: [1, 2, 3, 4, 5]\n"
     ]
    }
   ],
   "source": [
    "parent1 = [1, 2, 3, 4, 5]\n",
    "parent2 = [5, 4, 3, 1, 2]\n",
    "child1 = [21, 22, 33, 44, 55]\n",
    "child2 = [11, 12, 13, 14, 15]\n",
    "\n",
    "crossover(parent1, parent2, child1, child2)"
   ]
  },
  {
   "cell_type": "code",
   "execution_count": null,
   "metadata": {},
   "outputs": [],
   "source": [
    "def mutation(individual, mutation_prob):\n",
    "    # mutacija moze da bude jednostavna, samo se izberu dve rute i swapuje se po jedan customer iz svake \n",
    "    # dodatne varijacije mutacije:\n",
    "    # odaberemo dve pozicije i obrnemo redosled elemenata izmedju njih\n",
    "    # odaberemo dve pozicije i pretumbamo elemente izmedju njih"
   ]
  },
  {
   "cell_type": "code",
   "execution_count": null,
   "metadata": {},
   "outputs": [],
   "source": [
    "def genetic_algorithm(data, population_size, elitism_size, mutation_prob, tournament_size, num_generations, capacity, ...):\n",
    "    population = [Individual(data, capacity, ...) for _ in range(population_size)]\n",
    "    new_population = deepcopy(population)\n",
    "\n",
    "    for i in range(num_generations):\n",
    "        population.sort(key = lambda x: x.fitness, reverse = True)\n",
    "        new_population[:elitism_size] = population[:elitism_size]\n",
    "        for j in range(elitism_size, population_size, 2):\n",
    "            parent1 = selection(population, tournament_size)\n",
    "            parent2 = selection(population, tournament_size)\n",
    "            while(parent1 == parent2):\n",
    "                parent2 = selection(population, tournament_size)\n",
    "            \n",
    "            crossover(parent1, parent2, child1= new_population[j], child2 = new_population[j+1])\n",
    "            \n",
    "            mutation(new_population[j], mutation_prob)\n",
    "            mutation(new_population[j+1], mutation_prob)\n",
    "\n",
    "            new_population[j].fitness = new_population[j].calc_fitness()\n",
    "            new_population[j+1].fitness = new_population[j+1].calc_fitness()\n",
    "\n",
    "        population = deepcopy(new_population)\n",
    "    \n",
    "    return max(population, key = lambda x: x.fitness)"
   ]
  }
 ],
 "metadata": {
  "kernelspec": {
   "display_name": "Python 3 (ipykernel)",
   "language": "python",
   "name": "python3"
  },
  "language_info": {
   "codemirror_mode": {
    "name": "ipython",
    "version": 3
   },
   "file_extension": ".py",
   "mimetype": "text/x-python",
   "name": "python",
   "nbconvert_exporter": "python",
   "pygments_lexer": "ipython3",
   "version": "3.11.0"
  }
 },
 "nbformat": 4,
 "nbformat_minor": 2
}
