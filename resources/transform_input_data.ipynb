{
 "cells": [
  {
   "cell_type": "code",
   "execution_count": 12,
   "id": "82ee41a7",
   "metadata": {},
   "outputs": [
    {
     "name": "stdout",
     "output_type": "stream",
     "text": [
      "Last element removed from each line in 'input_3.txt'.\n"
     ]
    }
   ],
   "source": [
    "def remove_last_element_from_lines(filename):\n",
    "    try:\n",
    "        \n",
    "        modified_lines = []\n",
    "        # Read lines from the file\n",
    "        with open(filename, 'r') as file:\n",
    "            lines = file.readlines()\n",
    "\n",
    "            # Remove the last element from each line\n",
    "            for line in lines:\n",
    "                for i, word in enumerate(line.split()):\n",
    "                    if i != len(line.split()) - 1:\n",
    "                        modified_lines.append(word + \" \")\n",
    "                modified_lines.append(\"\\n\")\n",
    "\n",
    "        # Write the modified lines back to the file\n",
    "        with open(filename, 'w') as file:\n",
    "            file.writelines(modified_lines)\n",
    "\n",
    "        print(f\"Last element removed from each line in '{filename}'.\")\n",
    "    except FileNotFoundError:\n",
    "        print(f\"File '{filename}' not found.\")\n",
    "\n",
    "# Example usage\n",
    "if __name__ == \"__main__\":\n",
    "    input_filename = \"your_input_file.txt\"  # Replace with your actual file name\n",
    "    remove_last_element_from_lines(\"input_3.txt\")\n"
   ]
  },
  {
   "cell_type": "code",
   "execution_count": null,
   "id": "5c07b5bd",
   "metadata": {},
   "outputs": [],
   "source": []
  }
 ],
 "metadata": {
  "kernelspec": {
   "display_name": "Python 3 (ipykernel)",
   "language": "python",
   "name": "python3"
  },
  "language_info": {
   "codemirror_mode": {
    "name": "ipython",
    "version": 3
   },
   "file_extension": ".py",
   "mimetype": "text/x-python",
   "name": "python",
   "nbconvert_exporter": "python",
   "pygments_lexer": "ipython3",
   "version": "3.11.0"
  }
 },
 "nbformat": 4,
 "nbformat_minor": 5
}
